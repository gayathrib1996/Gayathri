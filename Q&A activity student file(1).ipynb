{
 "cells": [
  {
   "cell_type": "markdown",
   "metadata": {},
   "source": [
    "## 1. Complete the following code to find the area of an equilateral triangle. Output should be as displayed"
   ]
  },
  {
   "cell_type": "code",
   "execution_count": 4,
   "metadata": {},
   "outputs": [
    {
     "name": "stdout",
     "output_type": "stream",
     "text": [
      "Enter the side of the equilateral triangle: 5\n",
      "the area of the equilateral triangle is 10.825317547305483\n"
     ]
    }
   ],
   "source": [
    "import math\n",
    "side = float(input(\"Enter the side of the equilateral triangle: \"))\n",
    "area = ((math.sqrt(3))/4)*pow(side,2)\n",
    "print(\"the area of the equilateral triangle is\",area)\n"
   ]
  },
  {
   "cell_type": "markdown",
   "metadata": {},
   "source": [
    "## 2. Write a program to count the number of each characters in a string"
   ]
  },
  {
   "cell_type": "code",
   "execution_count": 10,
   "metadata": {},
   "outputs": [
    {
     "name": "stdout",
     "output_type": "stream",
     "text": [
      "enter a stringgayathri\n",
      "string is gayathri\n",
      "{'g': 1, 'a': 2, 'y': 1, 't': 1, 'h': 1, 'r': 1, 'i': 1}\n"
     ]
    }
   ],
   "source": [
    "str=input(\"enter a string\")\n",
    "print(\"string is\",str)\n",
    "count={}\n",
    "for x in str:\n",
    "    if x in count.keys():\n",
    "        count[x]+=1\n",
    "    else:count[x]=1\n",
    "            \n",
    "print(count)"
   ]
  },
  {
   "cell_type": "markdown",
   "metadata": {},
   "source": [
    "## 3. Write a program to find the area and perimeter of a rectangle using functions"
   ]
  },
  {
   "cell_type": "code",
   "execution_count": 12,
   "metadata": {},
   "outputs": [
    {
     "name": "stdout",
     "output_type": "stream",
     "text": [
      "enter the length of the rectangle:4\n",
      "enter the width of the rectangle:3\n",
      "area of the rectangle is 12.0\n",
      "perimeter of the rectangle is 14.0\n"
     ]
    }
   ],
   "source": [
    "len=float(input(\"enter the length of the rectangle:\"))\n",
    "wid=float(input(\"enter the width of the rectangle:\"))\n",
    "area=len*wid\n",
    "perimeter=(len+wid)*2\n",
    "print(\"area of the rectangle is\",area)\n",
    "print(\"perimeter of the rectangle is\",perimeter)"
   ]
  },
  {
   "cell_type": "markdown",
   "metadata": {},
   "source": [
    "## 4. Write a program to print the fibonacci series till a specified number"
   ]
  },
  {
   "cell_type": "code",
   "execution_count": 24,
   "metadata": {},
   "outputs": [
    {
     "name": "stdout",
     "output_type": "stream",
     "text": [
      "enter no: of Fibinocci series to be generated10\n",
      "0,1,1,2,3,5,8,13,21,34"
     ]
    }
   ],
   "source": [
    "a=0\n",
    "b=1\n",
    "n=int(input(\"enter no: of Fibinocci series to be generated\"))\n",
    "if n<=0:\n",
    "    print(\"not possible\")\n",
    "elif n==1:\n",
    "    print(a)\n",
    "elif n>=2:\n",
    "    print(\"{},{}\".format(a,b),end='')\n",
    "    for i in range(2,n):\n",
    "        c=a+b\n",
    "        print(\",{}\".format(c),end='')\n",
    "        a=b\n",
    "        b=c"
   ]
  },
  {
   "cell_type": "markdown",
   "metadata": {},
   "source": [
    "## 5. Complete the following code to find the minimum of 3 number using conditional statements. Output should be as displayed"
   ]
  },
  {
   "cell_type": "code",
   "execution_count": 35,
   "metadata": {},
   "outputs": [
    {
     "name": "stdout",
     "output_type": "stream",
     "text": [
      "enter three numbers followed by:58 68 45\n",
      "First number : 58\n",
      "Second number : 68\n",
      "Third number : 45\n",
      "45  is smallest\n"
     ]
    }
   ],
   "source": [
    "a,b,c=input(\"enter three numbers followed by:\").split()\n",
    "\n",
    "print(\"First number :\",a)\n",
    "print(\"Second number :\",b)\n",
    "print(\"Third number :\",c)\n",
    "if(a==b==c):\n",
    "    print(\"Entered numbers are equal!!!\")\n",
    "elif(a==min(a,b,c)):\n",
    "    print(a,\" is smallest\")\n",
    "elif(b==min(a,b,c)):\n",
    "    print(b,\" is smallest\")\n",
    "else:\n",
    "    print(c,\" is smallest\")"
   ]
  },
  {
   "cell_type": "markdown",
   "metadata": {},
   "source": [
    "## 6. Write a program to print star pyramind. The number of rows should be taken as input from the user"
   ]
  },
  {
   "cell_type": "code",
   "execution_count": 24,
   "metadata": {},
   "outputs": [
    {
     "name": "stdout",
     "output_type": "stream",
     "text": [
      "enter the no: of rows7\n",
      "*\n",
      "**\n",
      "***\n",
      "****\n",
      "*****\n",
      "******\n",
      "*******\n"
     ]
    }
   ],
   "source": [
    "num=int(input(\"enter the no: of rows\"))\n",
    "for i in range(0,num):\n",
    "    for j in range(0,num-i-1):\n",
    "     print(end=\"\")\n",
    "    for j in range(0,i+1):\n",
    "     print(\"*\",end=\"\")\n",
    "    \n",
    "    print()        \n"
   ]
  },
  {
   "cell_type": "markdown",
   "metadata": {},
   "source": [
    "## 7. Complete the following code to convert hour into seconds. Output should be as displayed"
   ]
  },
  {
   "cell_type": "code",
   "execution_count": 53,
   "metadata": {},
   "outputs": [
    {
     "name": "stdout",
     "output_type": "stream",
     "text": [
      "enter the hour1\n",
      "1.0  Hour is equal to 3600.0  Seconds\n"
     ]
    }
   ],
   "source": [
    "def to_seconds(t):\n",
    "    t=time_in_hours*3600\n",
    "    return t\n",
    "time_in_hours =float(input(\"enter the hour\")) \n",
    "print(time_in_hours ,\" Hour is equal to\" ,to_seconds(time_in_hours) ,\" Seconds\")"
   ]
  },
  {
   "cell_type": "markdown",
   "metadata": {},
   "source": [
    "## 8. Write a program to print multiplication table as below"
   ]
  },
  {
   "cell_type": "code",
   "execution_count": 3,
   "metadata": {},
   "outputs": [
    {
     "name": "stdout",
     "output_type": "stream",
     "text": [
      "enter the number64\n",
      "64 * 1 = 64\n",
      "64 * 2 = 128\n",
      "64 * 3 = 192\n",
      "64 * 4 = 256\n",
      "64 * 5 = 320\n",
      "64 * 6 = 384\n",
      "64 * 7 = 448\n",
      "64 * 8 = 512\n",
      "64 * 9 = 576\n",
      "64 * 10 = 640\n"
     ]
    }
   ],
   "source": [
    "n=int(input(\"enter the number\"))\n",
    "for i in range(1,11):\n",
    "    print(n,\"*\",i,\"=\",n*i)"
   ]
  },
  {
   "cell_type": "markdown",
   "metadata": {},
   "source": [
    "## 9. Write a program to take your 5 favorite food as list and print each as 'I like Biriyani'"
   ]
  },
  {
   "cell_type": "code",
   "execution_count": 4,
   "metadata": {},
   "outputs": [
    {
     "name": "stdout",
     "output_type": "stream",
     "text": [
      "enter five favorite food you like:biriyani chicken soups cake friedrice\n",
      "I like biriyani\n",
      "I like chicken\n",
      "I like soups\n",
      "I like cake\n",
      "I like friedrice\n"
     ]
    }
   ],
   "source": [
    "L=input(\"enter five favorite food you like:\").split()\n",
    "for i in L:\n",
    "    print(\"I like\",i)"
   ]
  },
  {
   "cell_type": "code",
   "execution_count": null,
   "metadata": {},
   "outputs": [],
   "source": [
    "group members:Gayathri,Aneete Rose,Anju ck,Athul parameswaran,Abin Mathewws"
   ]
  },
  {
   "cell_type": "code",
   "execution_count": null,
   "metadata": {},
   "outputs": [],
   "source": []
  },
  {
   "cell_type": "code",
   "execution_count": null,
   "metadata": {},
   "outputs": [],
   "source": []
  },
  {
   "cell_type": "code",
   "execution_count": null,
   "metadata": {},
   "outputs": [],
   "source": []
  },
  {
   "cell_type": "code",
   "execution_count": null,
   "metadata": {},
   "outputs": [],
   "source": []
  }
 ],
 "metadata": {
  "kernelspec": {
   "display_name": "Python 3",
   "language": "python",
   "name": "python3"
  },
  "language_info": {
   "codemirror_mode": {
    "name": "ipython",
    "version": 3
   },
   "file_extension": ".py",
   "mimetype": "text/x-python",
   "name": "python",
   "nbconvert_exporter": "python",
   "pygments_lexer": "ipython3",
   "version": "3.8.8"
  }
 },
 "nbformat": 4,
 "nbformat_minor": 4
}
